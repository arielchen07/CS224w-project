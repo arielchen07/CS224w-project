{
 "cells": [
  {
   "cell_type": "code",
   "execution_count": 6,
   "metadata": {},
   "outputs": [
    {
     "name": "stderr",
     "output_type": "stream",
     "text": [
      "/Library/Frameworks/Python.framework/Versions/3.10/lib/python3.10/site-packages/tqdm/auto.py:21: TqdmWarning: IProgress not found. Please update jupyter and ipywidgets. See https://ipywidgets.readthedocs.io/en/stable/user_install.html\n",
      "  from .autonotebook import tqdm as notebook_tqdm\n"
     ]
    }
   ],
   "source": [
    "import torch\n",
    "from torch_geometric.nn import TransformerConv\n",
    "from torch_geometric.data import Data\n",
    "import torch.nn.functional as F\n",
    "\n",
    "import osmium\n",
    "from osmium import osm"
   ]
  },
  {
   "cell_type": "code",
   "execution_count": 15,
   "metadata": {
    "id": "8XKD1S0izdXv"
   },
   "outputs": [],
   "source": [
    "class GTN(torch.nn.Module):\n",
    "    def __init__(self, input_dim, hidden_dim, output_dim, num_layers,\n",
    "                 dropout, beta=True, heads=1):\n",
    "        super(GTN, self).__init__()\n",
    "\n",
    "        # The list of transormer conv layers for the each layer block.\n",
    "        self.num_layers = num_layers\n",
    "        conv_layers = [TransformerConv(input_dim, hidden_dim//heads, heads=heads, beta=beta)]\n",
    "        conv_layers += [TransformerConv(hidden_dim, hidden_dim//heads, heads=heads, beta=beta) for _ in range(num_layers - 2)]\n",
    "        # In the last layer, we will employ averaging for multi-head output by\n",
    "        # setting concat to True.\n",
    "        conv_layers.append(TransformerConv(hidden_dim, output_dim, heads=heads, beta=beta, concat=True))\n",
    "        self.convs = torch.nn.ModuleList(conv_layers)\n",
    "\n",
    "        # The list of layerNorm for each layer block.\n",
    "        norm_layers = [torch.nn.LayerNorm(hidden_dim) for _ in range(num_layers - 1)]\n",
    "        self.norms = torch.nn.ModuleList(norm_layers)\n",
    "\n",
    "        # Probability of an element getting zeroed.\n",
    "        self.dropout = dropout\n",
    "\n",
    "    def reset_parameters(self):\n",
    "        \"\"\"\n",
    "        Resets the parameters of the convolutional and normalization layers,\n",
    "        ensuring they are re-initialized when needed.\n",
    "        \"\"\"\n",
    "        for conv in self.convs:\n",
    "            conv.reset_parameters()\n",
    "        for norm in self.norms:\n",
    "            norm.reset_parameters()\n",
    "\n",
    "    def forward(self, x, edge_index):\n",
    "        \"\"\"\n",
    "        The input features are passed sequentially through the transformer\n",
    "        convolutional layers. After each convolutional layer (except the last),\n",
    "        the following operations are applied:\n",
    "        - Layer normalization (`LayerNorm`).\n",
    "        - ReLU activation function.\n",
    "        - Dropout for regularization.\n",
    "        The final layer is processed without layer normalization and ReLU\n",
    "        to average the multi-head results for the expected output.\n",
    "\n",
    "        Params:\n",
    "        - x: node features x\n",
    "        - edge_index: edge indices.\n",
    "\n",
    "        \"\"\"\n",
    "        for i in range(self.num_layers - 1):\n",
    "            # Construct the network as shown in the model architecture.\n",
    "            x = self.convs[i](x, edge_index)\n",
    "            x = self.norms[i](x)\n",
    "            x = F.relu(x)\n",
    "            # By setting training to self.training, we will only apply dropout\n",
    "            # during model training.\n",
    "            x = F.dropout(x, p = self.dropout, training = self.training)\n",
    "\n",
    "        # Last layer, average multi-head output.\n",
    "        print(x.shape)\n",
    "        x = self.convs[-1](x, edge_index)\n",
    "\n",
    "        return x"
   ]
  },
  {
   "cell_type": "code",
   "execution_count": 10,
   "metadata": {},
   "outputs": [],
   "source": [
    "def construct_graph(osmPath: str):\n",
    "    class MapCreationHandler(osmium.SimpleHandler):\n",
    "        def __init__(self) -> None:\n",
    "            super().__init__()\n",
    "            self.nodes = []\n",
    "            self.edges = [[], []]\n",
    "\n",
    "            self.node_id_to_idx = {}\n",
    "            self.idx_to_node_id = {}\n",
    "            self.id_counter = 0\n",
    "\n",
    "        def node(self, n: osm.Node) -> None:\n",
    "            self.nodes.append([n.location.lat, n.location.lon])\n",
    "            self.node_id_to_idx[n.id] = self.id_counter\n",
    "            self.idx_to_node_id[self.id_counter] = n.id\n",
    "            self.id_counter += 1\n",
    "\n",
    "        def way(self, w):\n",
    "            node_refs = [node.ref for node in w.nodes]\n",
    "\n",
    "            for i in range(len(node_refs) - 1):\n",
    "                node_start = node_refs[i]\n",
    "                node_end = node_refs[i + 1]\n",
    "                \n",
    "                self.edges[0].append(self.node_id_to_idx[node_start])\n",
    "                self.edges[1].append(self.node_id_to_idx[node_end])\n",
    "\n",
    "    mapCreator = MapCreationHandler()\n",
    "    mapCreator.apply_file(osmPath, locations=True)\n",
    "\n",
    "    x = torch.tensor(mapCreator.nodes, dtype=torch.float)\n",
    "    edge_index = torch.tensor(mapCreator.edges, dtype=torch.long)\n",
    "    data = Data(x=x, edge_index=edge_index)\n",
    "    return data"
   ]
  },
  {
   "cell_type": "code",
   "execution_count": 11,
   "metadata": {},
   "outputs": [
    {
     "name": "stdout",
     "output_type": "stream",
     "text": [
      "Data(x=[23691, 2], edge_index=[2, 25324])\n"
     ]
    }
   ],
   "source": [
    "graph = construct_graph(\"data/stanford.pbf\")\n",
    "print(graph)"
   ]
  },
  {
   "cell_type": "code",
   "execution_count": 18,
   "metadata": {},
   "outputs": [],
   "source": [
    "model = GTN(input_dim=2, hidden_dim=10, output_dim=10, num_layers=2,\n",
    "            dropout=0.1, beta=True, heads=1)"
   ]
  },
  {
   "cell_type": "code",
   "execution_count": 19,
   "metadata": {},
   "outputs": [
    {
     "name": "stdout",
     "output_type": "stream",
     "text": [
      "torch.Size([23691, 10])\n"
     ]
    },
    {
     "data": {
      "text/plain": [
       "tensor([[-0.2378,  0.0272, -0.6937,  ..., -0.2134,  0.5544, -0.6964],\n",
       "        [-0.2396,  0.0283, -0.6955,  ..., -0.2065,  0.5538, -0.6931],\n",
       "        [-0.2188,  0.1258, -0.6812,  ..., -0.2771,  0.5459, -0.7264],\n",
       "        ...,\n",
       "        [-0.2496,  0.0200, -0.7001,  ..., -0.2077,  0.5651, -0.6873],\n",
       "        [-0.2376,  0.0285, -0.6975,  ..., -0.2036,  0.5561, -0.6909],\n",
       "        [-0.2396,  0.0283, -0.6955,  ..., -0.2065,  0.5538, -0.6931]],\n",
       "       grad_fn=<AddBackward0>)"
      ]
     },
     "execution_count": 19,
     "metadata": {},
     "output_type": "execute_result"
    }
   ],
   "source": [
    "model(graph.x, graph.edge_index)"
   ]
  }
 ],
 "metadata": {
  "colab": {
   "provenance": []
  },
  "kernelspec": {
   "display_name": "Python 3",
   "name": "python3"
  },
  "language_info": {
   "codemirror_mode": {
    "name": "ipython",
    "version": 3
   },
   "file_extension": ".py",
   "mimetype": "text/x-python",
   "name": "python",
   "nbconvert_exporter": "python",
   "pygments_lexer": "ipython3",
   "version": "3.10.10"
  }
 },
 "nbformat": 4,
 "nbformat_minor": 0
}
