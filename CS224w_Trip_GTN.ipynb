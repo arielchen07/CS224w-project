{
  "nbformat": 4,
  "nbformat_minor": 0,
  "metadata": {
    "colab": {
      "provenance": []
    },
    "kernelspec": {
      "name": "python3",
      "display_name": "Python 3"
    },
    "language_info": {
      "name": "python"
    }
  },
  "cells": [
    {
      "cell_type": "markdown",
      "source": [
        "This code is implememnted based on [Graph_Transformer_Networks](https://github.com/seongjunyun/Graph_Transformer_Networks/tree/master)"
      ],
      "metadata": {
        "id": "OW8Lb0fzS0by"
      }
    },
    {
      "cell_type": "markdown",
      "metadata": {
        "id": "67gOQITlCNQi"
      },
      "source": [
        "## Installation"
      ]
    },
    {
      "cell_type": "code",
      "metadata": {
        "id": "J_m9l6OYCQZP"
      },
      "source": [
        "# Install torch geometric\n",
        "import os\n",
        "import torch"
      ],
      "execution_count": null,
      "outputs": []
    },
    {
      "cell_type": "code",
      "source": [
        "!pip install torch==2.4.0"
      ],
      "metadata": {
        "id": "-eVJWah1Mxwy"
      },
      "execution_count": null,
      "outputs": []
    },
    {
      "cell_type": "code",
      "source": [
        "torch_version = str(torch.__version__)\n",
        "scatter_src = f\"https://pytorch-geometric.com/whl/torch-{torch_version}.html\"\n",
        "sparse_src = f\"https://pytorch-geometric.com/whl/torch-{torch_version}.html\"\n",
        "!pip install torch-scatter -f $scatter_src\n",
        "!pip install torch-sparse -f $sparse_src\n",
        "!pip install torch-geometric\n",
        "# !pip install -q git+https://github.com/snap-stanford/deepsnap.git"
      ],
      "metadata": {
        "id": "_eYkCT1vM6_2"
      },
      "execution_count": null,
      "outputs": []
    },
    {
      "cell_type": "code",
      "metadata": {
        "id": "PRfgbfTjCRD_"
      },
      "source": [
        "import torch_geometric\n",
        "torch_geometric.__version__"
      ],
      "execution_count": null,
      "outputs": []
    },
    {
      "cell_type": "markdown",
      "source": [
        "## Data Processing\n"
      ],
      "metadata": {
        "id": "n0CTmnOzSUhr"
      }
    },
    {
      "cell_type": "markdown",
      "source": [],
      "metadata": {
        "id": "mob_mX7FSzi1"
      }
    },
    {
      "cell_type": "code",
      "source": [],
      "metadata": {
        "id": "Gao6ToaVSW1Y"
      },
      "execution_count": null,
      "outputs": []
    },
    {
      "cell_type": "markdown",
      "source": [
        "## Model\n"
      ],
      "metadata": {
        "id": "04Be6yJkRPSj"
      }
    },
    {
      "cell_type": "code",
      "source": [
        "import torch\n",
        "import numpy as np\n",
        "import torch.nn as nn\n",
        "import torch.nn.functional as F\n",
        "import math\n",
        "from gcn import GCNConv\n",
        "from torch_scatter import scatter_add\n",
        "import torch_sparse"
      ],
      "metadata": {
        "id": "vWXJWptoRYxx"
      },
      "execution_count": null,
      "outputs": []
    },
    {
      "cell_type": "code",
      "source": [
        "class GTConv(nn.Module):\n",
        "\n",
        "    def __init__(self, in_channels, out_channels, num_nodes):\n",
        "        super(GTConv, self).__init__()\n",
        "        self.in_channels = in_channels\n",
        "        self.out_channels = out_channels\n",
        "        self.weight = nn.Parameter(torch.Tensor(out_channels,in_channels))\n",
        "        self.bias = None\n",
        "        self.num_nodes = num_nodes\n",
        "        self.reset_parameters()\n",
        "    def reset_parameters(self):\n",
        "        n = self.in_channels\n",
        "        nn.init.normal_(self.weight, std=0.01)\n",
        "        if self.bias is not None:\n",
        "            fan_in, _ = nn.init._calculate_fan_in_and_fan_out(self.weight)\n",
        "            bound = 1 / math.sqrt(fan_in)\n",
        "            nn.init.uniform_(self.bias, -bound, bound)\n",
        "\n",
        "    def forward(self, A, num_nodes, eval=eval):\n",
        "        filter = F.softmax(self.weight, dim=1)\n",
        "        num_channels = filter.shape[0]\n",
        "        results = []\n",
        "        for i in range(num_channels):\n",
        "            for j, (edge_index,edge_value) in enumerate(A):\n",
        "                if j == 0:\n",
        "                    total_edge_index = edge_index\n",
        "                    total_edge_value = edge_value*filter[i][j]\n",
        "                else:\n",
        "                    total_edge_index = torch.cat((total_edge_index, edge_index), dim=1)\n",
        "                    total_edge_value = torch.cat((total_edge_value, edge_value*filter[i][j]))\n",
        "\n",
        "            index, value = torch_sparse.coalesce(total_edge_index.detach(), total_edge_value, m=num_nodes, n=num_nodes, op='add')\n",
        "            results.append((index, value))\n",
        "        return results"
      ],
      "metadata": {
        "id": "K0ancWjkQ4Sn"
      },
      "execution_count": null,
      "outputs": []
    },
    {
      "cell_type": "code",
      "source": [
        "class GTLayer(nn.Module):\n",
        "\n",
        "    def __init__(self, in_channels, out_channels, num_nodes, first=True):\n",
        "        super(GTLayer, self).__init__()\n",
        "        self.in_channels = in_channels\n",
        "        self.out_channels = out_channels\n",
        "        self.first = first\n",
        "        self.num_nodes = num_nodes\n",
        "        if self.first == True:\n",
        "            self.conv1 = GTConv(in_channels, out_channels, num_nodes)\n",
        "            self.conv2 = GTConv(in_channels, out_channels, num_nodes)\n",
        "        else:\n",
        "            self.conv1 = GTConv(in_channels, out_channels, num_nodes)\n",
        "\n",
        "    def forward(self, A, num_nodes, H_=None, eval=False):\n",
        "        if self.first == True:\n",
        "            result_A = self.conv1(A, num_nodes, eval=eval)\n",
        "            result_B = self.conv2(A, num_nodes, eval=eval)\n",
        "            W = [(F.softmax(self.conv1.weight, dim=1)),(F.softmax(self.conv2.weight, dim=1))]\n",
        "        else:\n",
        "            result_A = H_\n",
        "            result_B = self.conv1(A, num_nodes, eval=eval)\n",
        "            W = [(F.softmax(self.conv1.weight, dim=1))]\n",
        "        H = []\n",
        "        for i in range(len(result_A)):\n",
        "            a_edge, a_value = result_A[i]\n",
        "            b_edge, b_value = result_B[i]\n",
        "            mat_a = torch.sparse_coo_tensor(a_edge, a_value, (num_nodes, num_nodes)).to(a_edge.device)\n",
        "            mat_b = torch.sparse_coo_tensor(b_edge, b_value, (num_nodes, num_nodes)).to(a_edge.device)\n",
        "            mat = torch.sparse.mm(mat_a, mat_b).coalesce()\n",
        "            edges, values = mat.indices(), mat.values()\n",
        "            # edges, values = torch_sparse.spspmm(a_edge, a_value, b_edge, b_value, num_nodes, num_nodes, num_nodes)\n",
        "            H.append((edges, values))\n",
        "        return H, W"
      ],
      "metadata": {
        "id": "VZphGW2gQ1_Q"
      },
      "execution_count": null,
      "outputs": []
    },
    {
      "cell_type": "code",
      "execution_count": null,
      "metadata": {
        "id": "IzU9bgRLQtQc"
      },
      "outputs": [],
      "source": [
        "class GTN(nn.Module):\n",
        "\n",
        "    def __init__(self, num_edge, num_channels, w_in, w_out, num_class, num_nodes, num_layers, args=None):\n",
        "        super(GTN, self).__init__()\n",
        "        self.num_edge = num_edge\n",
        "        self.num_channels = num_channels\n",
        "        self.num_nodes = num_nodes\n",
        "        self.w_in = w_in\n",
        "        self.w_out = w_out\n",
        "        self.num_class = num_class\n",
        "        self.num_layers = num_layers\n",
        "        self.args = args\n",
        "        layers = []\n",
        "        for i in range(num_layers):\n",
        "            if i == 0:\n",
        "                layers.append(GTLayer(num_edge, num_channels, num_nodes, first=True))\n",
        "            else:\n",
        "                layers.append(GTLayer(num_edge, num_channels, num_nodes, first=False))\n",
        "        self.layers = nn.ModuleList(layers)\n",
        "        if args.dataset in [\"PPI\", \"BOOK\", \"MUSIC\"]:\n",
        "            self.m = nn.Sigmoid()\n",
        "            self.loss = nn.BCELoss()\n",
        "        else:\n",
        "            self.loss = nn.CrossEntropyLoss()\n",
        "        self.gcn = GCNConv(in_channels=self.w_in, out_channels=w_out, args=args)\n",
        "        self.linear = nn.Linear(self.w_out*self.num_channels, self.num_class)\n",
        "\n",
        "    def normalization(self, H, num_nodes):\n",
        "        norm_H = []\n",
        "        for i in range(self.num_channels):\n",
        "            edge, value=H[i]\n",
        "            deg_row, deg_col = self.norm(edge.detach(), num_nodes, value)\n",
        "            value = (deg_row) * value\n",
        "            norm_H.append((edge, value))\n",
        "        return norm_H\n",
        "\n",
        "    def norm(self, edge_index, num_nodes, edge_weight, improved=False, dtype=None):\n",
        "        if edge_weight is None:\n",
        "            edge_weight = torch.ones((edge_index.size(1), ),\n",
        "                                    dtype=dtype,\n",
        "                                    device=edge_index.device)\n",
        "        edge_weight = edge_weight.view(-1)\n",
        "        assert edge_weight.size(0) == edge_index.size(1)\n",
        "        row, col = edge_index\n",
        "        deg = scatter_add(edge_weight.clone(), row, dim=0, dim_size=num_nodes)\n",
        "        deg_inv_sqrt = deg.pow(-1)\n",
        "        deg_inv_sqrt[deg_inv_sqrt == float('inf')] = 0\n",
        "\n",
        "        return deg_inv_sqrt[row], deg_inv_sqrt[col]\n",
        "\n",
        "    def forward(self, A, X, target_x, target, num_nodes=None, eval=False, node_labels=None):\n",
        "        if num_nodes is None:\n",
        "            num_nodes = self.num_nodes\n",
        "        Ws = []\n",
        "        for i in range(self.num_layers):\n",
        "            if i == 0:\n",
        "                H, W = self.layers[i](A, num_nodes, eval=eval)\n",
        "            else:\n",
        "                H, W = self.layers[i](A, num_nodes, H, eval=eval)\n",
        "            H = self.normalization(H, num_nodes)\n",
        "            Ws.append(W)\n",
        "        for i in range(self.num_channels):\n",
        "            edge_index, edge_weight = H[i][0], H[i][1]\n",
        "            if i==0:\n",
        "                X_ = self.gcn(X,edge_index=edge_index.detach(), edge_weight=edge_weight)\n",
        "                X_ = F.relu(X_)\n",
        "            else:\n",
        "                X_tmp = F.relu(self.gcn(X,edge_index=edge_index.detach(), edge_weight=edge_weight))\n",
        "                X_ = torch.cat((X_,X_tmp), dim=1)\n",
        "\n",
        "        y = self.linear(X_[target_x])\n",
        "        if eval:\n",
        "            return y\n",
        "        else:\n",
        "            if self.args.dataset == 'PPI':\n",
        "                loss = self.loss(self.m(y), target)\n",
        "            else:\n",
        "                loss = self.loss(y, target)\n",
        "        return loss, y, Ws"
      ]
    },
    {
      "cell_type": "markdown",
      "source": [
        "## Train - NEED FURTHER MODIFICATIONS!!!"
      ],
      "metadata": {
        "id": "4k7x3mf4R2Tl"
      }
    },
    {
      "cell_type": "code",
      "source": [
        "epochs = args.epoch\n",
        "node_dim = args.node_dim\n",
        "num_channels = args.num_channels\n",
        "lr = args.lr\n",
        "weight_decay = args.weight_decay\n",
        "num_layers = args.num_layers"
      ],
      "metadata": {
        "id": "7lTY2qMlSfDC"
      },
      "execution_count": null,
      "outputs": []
    },
    {
      "cell_type": "code",
      "source": [
        "runs = args.runs\n",
        "if args.pre_train:\n",
        "    runs += 1\n",
        "    pre_trained_fastGTNs = None\n",
        "for l in range(runs):\n",
        "    # initialize a model\n",
        "    if args.model == 'GTN':\n",
        "        model = GTN(num_edge=len(A),\n",
        "                            num_channels=num_channels,\n",
        "                            w_in = node_features.shape[1],\n",
        "                            w_out = node_dim,\n",
        "                            num_class=num_classes,\n",
        "                            num_layers=num_layers,\n",
        "                            num_nodes=num_nodes,\n",
        "                            args=args)\n",
        "    elif args.model == 'FastGTN':\n",
        "        if args.pre_train and l == 1:\n",
        "            pre_trained_fastGTNs = []\n",
        "            for layer in range(args.num_FastGTN_layers):\n",
        "                pre_trained_fastGTNs.append(copy.deepcopy(model.fastGTNs[layer].layers))\n",
        "        while len(A) > num_edge_type:\n",
        "            del A[-1]\n",
        "        model = FastGTNs(num_edge_type=len(A),\n",
        "                        w_in = node_features.shape[1],\n",
        "                        num_class=num_classes,\n",
        "                        num_nodes = node_features.shape[0],\n",
        "                        args = args)\n",
        "        if args.pre_train and l > 0:\n",
        "            for layer in range(args.num_FastGTN_layers):\n",
        "                model.fastGTNs[layer].layers = pre_trained_fastGTNs[layer]\n",
        "\n",
        "    optimizer = torch.optim.Adam(model.parameters(), lr=lr, weight_decay=weight_decay)\n",
        "\n",
        "    model.cuda()\n",
        "    if args.dataset == 'PPI':\n",
        "        loss = nn.BCELoss()\n",
        "    else:\n",
        "        loss = nn.CrossEntropyLoss()\n",
        "    Ws = []\n",
        "\n",
        "    best_val_loss = 10000\n",
        "    best_test_loss = 10000\n",
        "    best_train_loss = 10000\n",
        "    best_train_f1, best_micro_train_f1 = 0, 0\n",
        "    best_val_f1, best_micro_val_f1 = 0, 0\n",
        "    best_test_f1, best_micro_test_f1 = 0, 0\n",
        "\n",
        "    for i in range(epochs):\n",
        "        # print('Epoch ',i)\n",
        "        model.zero_grad()\n",
        "        model.train()\n",
        "        if args.model == 'FastGTN':\n",
        "            loss,y_train,W = model(A, node_features, train_node, train_target, epoch=i)\n",
        "        else:\n",
        "            loss,y_train,W = model(A, node_features, train_node, train_target)\n",
        "        if args.dataset == 'PPI':\n",
        "            y_train = (y_train > 0).detach().float().cpu()\n",
        "            train_f1 = 0.0\n",
        "            sk_train_f1 = sk_f1_score(train_target.detach().cpu().numpy(), y_train.numpy(), average='micro')\n",
        "        else:\n",
        "            train_f1 = torch.mean(f1_score(torch.argmax(y_train.detach(),dim=1), train_target, num_classes=num_classes)).cpu().numpy()\n",
        "            sk_train_f1 = sk_f1_score(train_target.detach().cpu(), np.argmax(y_train.detach().cpu(), axis=1), average='micro')\n",
        "        # print(W)\n",
        "        # print('Train - Loss: {}, Macro_F1: {}, Micro_F1: {}'.format(loss.detach().cpu().numpy(), train_f1, sk_train_f1))\n",
        "\n",
        "        loss.backward()\n",
        "        optimizer.step()\n",
        "        model.eval()\n",
        "        # Valid\n",
        "        with torch.no_grad():\n",
        "            if args.model == 'FastGTN':\n",
        "                val_loss, y_valid,_ = model.forward(A, node_features, valid_node, valid_target, epoch=i)\n",
        "            else:\n",
        "                val_loss, y_valid,_ = model.forward(A, node_features, valid_node, valid_target)\n",
        "            if args.dataset == 'PPI':\n",
        "                val_f1 = 0.0\n",
        "                y_valid = (y_valid > 0).detach().float().cpu()\n",
        "                sk_val_f1 = sk_f1_score(valid_target.detach().cpu().numpy(), y_valid.numpy(), average='micro')\n",
        "            else:\n",
        "                val_f1 = torch.mean(f1_score(torch.argmax(y_valid,dim=1), valid_target, num_classes=num_classes)).cpu().numpy()\n",
        "                sk_val_f1 = sk_f1_score(valid_target.detach().cpu(), np.argmax(y_valid.detach().cpu(), axis=1), average='micro')\n",
        "            # print('Valid - Loss: {}, Macro_F1: {}, Micro_F1: {}'.format(val_loss.detach().cpu().numpy(), val_f1, sk_val_f1))\n",
        "\n",
        "            if args.model == 'FastGTN':\n",
        "                test_loss, y_test,W = model.forward(A, node_features, test_node, test_target, epoch=i)\n",
        "            else:\n",
        "                test_loss, y_test,W = model.forward(A, node_features, test_node, test_target)\n",
        "            if args.dataset == 'PPI':\n",
        "                test_f1 = 0.0\n",
        "                y_test = (y_test > 0).detach().float().cpu()\n",
        "                sk_test_f1 = sk_f1_score(test_target.detach().cpu().numpy(), y_test.numpy(), average='micro')\n",
        "            else:\n",
        "                test_f1 = torch.mean(f1_score(torch.argmax(y_test,dim=1), test_target, num_classes=num_classes)).cpu().numpy()\n",
        "                sk_test_f1 = sk_f1_score(test_target.detach().cpu(), np.argmax(y_test.detach().cpu(), axis=1), average='micro')\n",
        "            # print('Test - Loss: {}, Macro_F1: {}, Micro_F1:{} \\n'.format(test_loss.detach().cpu().numpy(), test_f1, sk_test_f1))\n",
        "        if sk_val_f1 > best_micro_val_f1:\n",
        "            best_val_loss = val_loss.detach().cpu().numpy()\n",
        "            best_test_loss = test_loss.detach().cpu().numpy()\n",
        "            best_train_loss = loss.detach().cpu().numpy()\n",
        "            best_train_f1 = train_f1\n",
        "            best_val_f1 = val_f1\n",
        "            best_test_f1 = test_f1\n",
        "            best_micro_train_f1 = sk_train_f1\n",
        "            best_micro_val_f1 = sk_val_f1\n",
        "            best_micro_test_f1 = sk_test_f1\n",
        "    if l == 0 and args.pre_train:\n",
        "        continue\n",
        "    print('Run {}'.format(l))\n",
        "    print('--------------------Best Result-------------------------')\n",
        "    print('Train - Loss: {:.4f}, Macro_F1: {:.4f}, Micro_F1: {:.4f}'.format(best_test_loss, best_train_f1, best_micro_train_f1))\n",
        "    print('Valid - Loss: {:.4f}, Macro_F1: {:.4f}, Micro_F1: {:.4f}'.format(best_val_loss, best_val_f1, best_micro_val_f1))\n",
        "    print('Test - Loss: {:.4f}, Macro_F1: {:.4f}, Micro_F1: {:.4f}'.format(best_test_loss, best_test_f1, best_micro_test_f1))\n",
        "    final_f1.append(best_test_f1)\n",
        "    final_micro_f1.append(best_micro_test_f1)\n",
        "\n",
        "print('--------------------Final Result-------------------------')\n",
        "print('Test - Macro_F1: {:.4f}+{:.4f}, Micro_F1:{:.4f}+{:.4f}'.format(np.mean(final_f1), np.std(final_f1), np.mean(final_micro_f1), np.std(final_micro_f1)))"
      ],
      "metadata": {
        "id": "eQOJblgaR4JB"
      },
      "execution_count": null,
      "outputs": []
    }
  ]
}